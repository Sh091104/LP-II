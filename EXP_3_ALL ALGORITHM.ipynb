{
 "cells": [
  {
   "cell_type": "markdown",
   "id": "489d6569-360c-4433-8c35-bec2e4f03b5f",
   "metadata": {},
   "source": [
    "# 3.. Implement Greedy search algorithm for any of the following application:\n",
    "I. Selection Sort\n",
    "II. Minimum Spanning Tree\n",
    "III. Single-Source Shortest Path Problem\n",
    "IV. Job Scheduling Problem\n",
    "V. Prim's Minimal Spanning Tree Algorithm\n",
    "VI. Kruskal's Minimal Spanning Tree Algorithm\n",
    "VII. Dijkstra's Minimal Spanning Tree Algorithm.\n"
   ]
  },
  {
   "cell_type": "markdown",
   "id": "7568e374-6876-41bb-b1a8-b1457e3d31d7",
   "metadata": {},
   "source": [
    "#  I. Selection Sort (Greedy for Sorting)"
   ]
  },
  {
   "cell_type": "code",
   "execution_count": 8,
   "id": "08d28704-385a-4566-84b3-5108205fb5bd",
   "metadata": {},
   "outputs": [
    {
     "name": "stdin",
     "output_type": "stream",
     "text": [
      "Enter elements to sort (space-separated):  4 3 2 5 7 5 8\n"
     ]
    },
    {
     "name": "stdout",
     "output_type": "stream",
     "text": [
      "Sorted array: [2, 3, 4, 5, 5, 7, 8]\n"
     ]
    }
   ],
   "source": [
    "def selection_sort(arr):\n",
    "    n = len(arr)\n",
    "    for i in range(n):\n",
    "        min_idx = i\n",
    "        for j in range(i+1, n):\n",
    "            if arr[j] < arr[min_idx]:\n",
    "                min_idx = j\n",
    "        arr[i], arr[min_idx] = arr[min_idx], arr[i]\n",
    "    return arr\n",
    "\n",
    "arr = list(map(int, input(\"Enter elements to sort (space-separated): \").split()))\n",
    "sorted_arr = selection_sort(arr)\n",
    "print(\"Sorted array:\", sorted_arr)\n"
   ]
  },
  {
   "cell_type": "markdown",
   "id": "94f908c5-74c4-4828-814d-61bc4813d912",
   "metadata": {},
   "source": [
    "# II. Single-Source Shortest Path (Greedy: Dijkstra’s Algorithm)"
   ]
  },
  {
   "cell_type": "code",
   "execution_count": 15,
   "id": "c6234af5-37d8-46d5-8d0f-2aef4783f236",
   "metadata": {},
   "outputs": [
    {
     "name": "stdin",
     "output_type": "stream",
     "text": [
      "Enter number of vertices:  4\n",
      "Enter number of edges:  4\n"
     ]
    },
    {
     "name": "stdout",
     "output_type": "stream",
     "text": [
      "Enter edges (u v weight):\n"
     ]
    },
    {
     "name": "stdin",
     "output_type": "stream",
     "text": [
      "  1 2 40\n",
      "  2 3 40\n",
      " 3 2 40\n",
      " 1 3 34\n",
      "Enter starting vertex:  1\n"
     ]
    },
    {
     "name": "stdout",
     "output_type": "stream",
     "text": [
      "Shortest distances: [inf, 0, 40, 34]\n"
     ]
    }
   ],
   "source": [
    "import heapq\n",
    "\n",
    "def dijkstra(graph, start):\n",
    "    n = len(graph)\n",
    "    dist = [float('inf')] * n\n",
    "    dist[start] = 0\n",
    "    pq = [(0, start)]\n",
    "\n",
    "    while pq:\n",
    "        d, u = heapq.heappop(pq)\n",
    "        for v, w in graph[u]:\n",
    "            if dist[v] > d + w:\n",
    "                dist[v] = d + w\n",
    "                heapq.heappush(pq, (dist[v], v))\n",
    "    return dist\n",
    "\n",
    "# Input\n",
    "n = int(input(\"Enter number of vertices: \"))\n",
    "e = int(input(\"Enter number of edges: \"))\n",
    "graph = [[] for _ in range(n)]\n",
    "print(\"Enter edges (u v weight):\")\n",
    "for _ in range(e):\n",
    "    u, v, w = map(int, input().split())\n",
    "    graph[u].append((v, w))\n",
    "    graph[v].append((u, w))  # remove if directed\n",
    "\n",
    "start = int(input(\"Enter starting vertex: \"))\n",
    "distances = dijkstra(graph, start)\n",
    "print(\"Shortest distances:\", distances)\n"
   ]
  },
  {
   "cell_type": "markdown",
   "id": "60543aeb-037f-41d2-9f17-577d8937f435",
   "metadata": {},
   "source": [
    " # IV. Job Scheduling Problem (Greedy for Max Profit with Deadlines)"
   ]
  },
  {
   "cell_type": "code",
   "execution_count": 16,
   "id": "825af3f7-29d1-463a-bbd1-daac02cfd91c",
   "metadata": {},
   "outputs": [
    {
     "name": "stdin",
     "output_type": "stream",
     "text": [
      "Enter number of jobs:  4\n"
     ]
    },
    {
     "name": "stdout",
     "output_type": "stream",
     "text": [
      "Enter job as: id profit deadline\n"
     ]
    },
    {
     "name": "stdin",
     "output_type": "stream",
     "text": [
      " 1 100 3\n",
      " 2 200 4\n",
      " 3 300 3\n",
      " 4 400 4\n"
     ]
    },
    {
     "name": "stdout",
     "output_type": "stream",
     "text": [
      "Jobs scheduled: ['1', '2', '3', '4']\n",
      "Total profit: 1000\n"
     ]
    }
   ],
   "source": [
    "def job_scheduling(jobs):\n",
    "    jobs.sort(key=lambda x: x[1], reverse=True)\n",
    "    n = len(jobs)\n",
    "    max_deadline = max(job[2] for job in jobs)\n",
    "    slots = [-1] * (max_deadline + 1)\n",
    "    total_profit = 0\n",
    "\n",
    "    for job in jobs:\n",
    "        id, profit, deadline = job\n",
    "        for d in range(deadline, 0, -1):\n",
    "            if slots[d] == -1:\n",
    "                slots[d] = id\n",
    "                total_profit += profit\n",
    "                break\n",
    "\n",
    "    scheduled = [job for job in slots if job != -1]\n",
    "    return scheduled, total_profit\n",
    "\n",
    "n = int(input(\"Enter number of jobs: \"))\n",
    "jobs = []\n",
    "print(\"Enter job as: id profit deadline\")\n",
    "for _ in range(n):\n",
    "    id, profit, deadline = input().split()\n",
    "    jobs.append((id, int(profit), int(deadline)))\n",
    "\n",
    "scheduled, profit = job_scheduling(jobs)\n",
    "print(\"Jobs scheduled:\", scheduled)\n",
    "print(\"Total profit:\", profit)\n"
   ]
  },
  {
   "cell_type": "markdown",
   "id": "09e59e3d-8c59-48df-b88b-bce34bf9bcf0",
   "metadata": {},
   "source": [
    " # V. Prim’s Minimum Spanning Tree Algorithm"
   ]
  },
  {
   "cell_type": "code",
   "execution_count": 17,
   "id": "83fbb810-f11f-4e07-9d13-1d791379d663",
   "metadata": {},
   "outputs": [
    {
     "name": "stdin",
     "output_type": "stream",
     "text": [
      "Enter number of vertices:  4\n",
      "Enter number of edges:  4\n"
     ]
    },
    {
     "name": "stdout",
     "output_type": "stream",
     "text": [
      "Enter edges (u v weight):\n"
     ]
    },
    {
     "name": "stdin",
     "output_type": "stream",
     "text": [
      " 1 2 30\n",
      "  2 3 40\n",
      " 1 3 40\n",
      " 1 2 40\n",
      "Enter starting vertex:  2\n"
     ]
    },
    {
     "name": "stdout",
     "output_type": "stream",
     "text": [
      "MST Cost: 70\n",
      "Edges: [(2, 1, 30), (2, 3, 40), (2, 1, 40), (1, 3, 40)]\n"
     ]
    }
   ],
   "source": [
    "import heapq\n",
    "\n",
    "def prim(graph, start):\n",
    "    visited = [False] * len(graph)\n",
    "    pq = [(0, start)]\n",
    "    mst_cost = 0\n",
    "    edges = []\n",
    "\n",
    "    while pq:\n",
    "        weight, u = heapq.heappop(pq)\n",
    "        if visited[u]:\n",
    "            continue\n",
    "        visited[u] = True\n",
    "        mst_cost += weight\n",
    "        for v, w in graph[u]:\n",
    "            if not visited[v]:\n",
    "                heapq.heappush(pq, (w, v))\n",
    "                edges.append((u, v, w))\n",
    "    return mst_cost, edges\n",
    "\n",
    "n = int(input(\"Enter number of vertices: \"))\n",
    "e = int(input(\"Enter number of edges: \"))\n",
    "graph = [[] for _ in range(n)]\n",
    "print(\"Enter edges (u v weight):\")\n",
    "for _ in range(e):\n",
    "    u, v, w = map(int, input().split())\n",
    "    graph[u].append((v, w))\n",
    "    graph[v].append((u, w))\n",
    "\n",
    "start = int(input(\"Enter starting vertex: \"))\n",
    "cost, edges = prim(graph, start)\n",
    "print(\"MST Cost:\", cost)\n",
    "print(\"Edges:\", edges)\n"
   ]
  },
  {
   "cell_type": "markdown",
   "id": "e26661f8-cd3e-4a8a-8d64-578495cea31b",
   "metadata": {},
   "source": [
    " #  VI. Kruskal’s Minimum Spanning Tree Algorithm"
   ]
  },
  {
   "cell_type": "code",
   "execution_count": null,
   "id": "4e5d71ee-0c88-46c9-a860-c6c59a692d25",
   "metadata": {},
   "outputs": [
    {
     "name": "stdin",
     "output_type": "stream",
     "text": [
      "Enter number of vertices:  4\n",
      "Enter number of edges:  3\n"
     ]
    },
    {
     "name": "stdout",
     "output_type": "stream",
     "text": [
      "Enter edges (u v weight):\n"
     ]
    },
    {
     "name": "stdin",
     "output_type": "stream",
     "text": [
      " 1 2 22\n"
     ]
    }
   ],
   "source": [
    "class DisjointSet:\n",
    "    def __init__(self, n):\n",
    "        self.parent = list(range(n))\n",
    "\n",
    "    def find(self, u):\n",
    "        if self.parent[u] != u:\n",
    "            self.parent[u] = self.find(self.parent[u])\n",
    "        return self.parent[u]\n",
    "\n",
    "    def union(self, u, v):\n",
    "        pu, pv = self.find(u), self.find(v)\n",
    "        if pu != pv:\n",
    "            self.parent[pu] = pv\n",
    "            return True\n",
    "        return False\n",
    "\n",
    "def kruskal(n, edges):\n",
    "    edges.sort(key=lambda x: x[2])\n",
    "    ds = DisjointSet(n)\n",
    "    mst = []\n",
    "    cost = 0\n",
    "    for u, v, w in edges:\n",
    "        if ds.union(u, v):\n",
    "            mst.append((u, v, w))\n",
    "            cost += w\n",
    "    return mst, cost\n",
    "\n",
    "n = int(input(\"Enter number of vertices: \"))\n",
    "e = int(input(\"Enter number of edges: \"))\n",
    "edges = []\n",
    "print(\"Enter edges (u v weight):\")\n",
    "for _ in range(e):\n",
    "    u, v, w = map(int, input().split())\n",
    "    edges.append((u, v, w))\n",
    "\n",
    "mst, cost = kruskal(n, edges)\n",
    "print(\"MST edges:\", mst)\n",
    "print(\"Total cost:\", cost)\n"
   ]
  },
  {
   "cell_type": "code",
   "execution_count": null,
   "id": "85223dc3-cfa8-4da9-8dc4-b322e6e837c5",
   "metadata": {},
   "outputs": [],
   "source": []
  }
 ],
 "metadata": {
  "kernelspec": {
   "display_name": "Python 3 (ipykernel)",
   "language": "python",
   "name": "python3"
  },
  "language_info": {
   "codemirror_mode": {
    "name": "ipython",
    "version": 3
   },
   "file_extension": ".py",
   "mimetype": "text/x-python",
   "name": "python",
   "nbconvert_exporter": "python",
   "pygments_lexer": "ipython3",
   "version": "3.12.7"
  }
 },
 "nbformat": 4,
 "nbformat_minor": 5
}
