{
 "cells": [
  {
   "cell_type": "markdown",
   "id": "a929441f-87da-4b48-aabc-509b3deb2cd2",
   "metadata": {},
   "source": [
    "# 1.. Implement depth first search algorithm and Breadth First Search algorithm, Use an undirected\n",
    " # graph and develop a recursive algorithm for searching all the vertices of a graph or tree data\n",
    " # structure. "
   ]
  },
  {
   "cell_type": "code",
   "execution_count": 4,
   "id": "89fd372c-2ce9-49dc-9547-33bc5806926f",
   "metadata": {},
   "outputs": [
    {
     "name": "stdin",
     "output_type": "stream",
     "text": [
      "Enter number of vertices:  3\n",
      "Enter number of edges:  3\n"
     ]
    },
    {
     "name": "stdout",
     "output_type": "stream",
     "text": [
      "Enter edges (format: u v):\n"
     ]
    },
    {
     "name": "stdin",
     "output_type": "stream",
     "text": [
      " 1 2\n",
      "  2 3\n",
      "  3 4\n",
      "Enter starting node for DFS and BFS:  2\n"
     ]
    },
    {
     "name": "stdout",
     "output_type": "stream",
     "text": [
      "\n",
      "Depth First Search (DFS):\n",
      "2 1 3 4 \n",
      "Breadth First Search (BFS):\n",
      "2 1 3 4 "
     ]
    },
    {
     "data": {
      "image/png": "[encoded data removed]",
      "text/plain": [
       "<Figure size 640x480 with 1 Axes>"
      ]
     },
     "metadata": {},
     "output_type": "display_data"
    }
   ],
   "source": [
    "from collections import defaultdict, deque\n",
    "import matplotlib.pyplot as plt\n",
    "import networkx as nx\n",
    "\n",
    "class Graph:\n",
    "    def __init__(self):\n",
    "        self.graph = defaultdict(list)\n",
    "        self.edges = []\n",
    "\n",
    "    def add_edge(self, u, v):\n",
    "        self.graph[u].append(v)\n",
    "        self.graph[v].append(u)\n",
    "        self.edges.append((u, v))\n",
    "\n",
    "    def dfs_recursive(self, node, visited=None):\n",
    "        if visited is None:\n",
    "            visited = set()\n",
    "        visited.add(node)\n",
    "        print(node, end=' ')\n",
    "        for neighbor in self.graph[node]:\n",
    "            if neighbor not in visited:\n",
    "                self.dfs_recursive(neighbor, visited)\n",
    "\n",
    "    def bfs(self, start_node):\n",
    "        visited = set()\n",
    "        queue = deque([start_node])\n",
    "        visited.add(start_node)\n",
    "        while queue:\n",
    "            node = queue.popleft()\n",
    "            print(node, end=' ')\n",
    "            for neighbor in self.graph[node]:\n",
    "                if neighbor not in visited:\n",
    "                    visited.add(neighbor)\n",
    "                    queue.append(neighbor)\n",
    "\n",
    "    def draw_graph(self):\n",
    "        G = nx.Graph()\n",
    "        G.add_edges_from(self.edges)\n",
    "        pos = nx.spring_layout(G)\n",
    "        nx.draw(G, pos, with_labels=True, node_color='lightblue', node_size=800, font_size=12)\n",
    "        plt.title(\"Graph Visualization\")\n",
    "        plt.show()\n",
    "\n",
    "# ----------- User Input Section -----------\n",
    "\n",
    "g = Graph()\n",
    "\n",
    "n = int(input(\"Enter number of vertices: \"))\n",
    "e = int(input(\"Enter number of edges: \"))\n",
    "\n",
    "print(\"Enter edges (format: u v):\")\n",
    "for _ in range(e):\n",
    "    u, v = map(int, input().split())\n",
    "    g.add_edge(u, v)\n",
    "\n",
    "start_node = int(input(\"Enter starting node for DFS and BFS: \"))\n",
    "\n",
    "print(\"\\nDepth First Search (DFS):\")\n",
    "g.dfs_recursive(start_node)\n",
    "\n",
    "print(\"\\nBreadth First Search (BFS):\")\n",
    "g.bfs(start_node)\n",
    "\n",
    "# Show the graph\n",
    "g.draw_graph()\n"
   ]
  },
  {
   "cell_type": "code",
   "execution_count": null,
   "id": "c53069aa-f2aa-4453-8300-6c2bdae02f6c",
   "metadata": {},
   "outputs": [],
   "source": []
  }
 ],
 "metadata": {
  "kernelspec": {
   "display_name": "Python 3 (ipykernel)",
   "language": "python",
   "name": "python3"
  },
  "language_info": {
   "codemirror_mode": {
    "name": "ipython",
    "version": 3
   },
   "file_extension": ".py",
   "mimetype": "text/x-python",
   "name": "python",
   "nbconvert_exporter": "python",
   "pygments_lexer": "ipython3",
   "version": "3.12.7"
  }
 },
 "nbformat": 4,
 "nbformat_minor": 5
}
