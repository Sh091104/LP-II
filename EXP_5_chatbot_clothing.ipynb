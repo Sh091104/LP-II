{
 "cells": [
  {
   "cell_type": "markdown",
   "id": "5c1cadcd-b363-4844-9b31-d6cde0985a1e",
   "metadata": {},
   "source": [
    "NAME: GAYATRI DEVGAONKAR\n"
   ]
  },
  {
   "cell_type": "markdown",
   "id": "ab31d8f3-1114-4b76-85cb-67da66a7a98a",
   "metadata": {},
   "source": [
    "CLASS: TE A "
   ]
  },
  {
   "cell_type": "markdown",
   "id": "cc01241f-da35-4dcd-976c-840b979d441c",
   "metadata": {},
   "source": [
    "BATCH : A2 13136"
   ]
  },
  {
   "cell_type": "markdown",
   "id": "6c6841b6-546e-460d-81fd-2b60a8adfd21",
   "metadata": {},
   "source": [
    "PRACTICAL ASSIGNMENT 5: clothing_chatbot"
   ]
  },
  {
   "cell_type": "code",
   "execution_count": 2,
   "id": "885070eb-8f20-4ab5-88fc-c8bf9f0cf768",
   "metadata": {},
   "outputs": [
    {
     "name": "stdout",
     "output_type": "stream",
     "text": [
      "👕 Welcome to the Clothing Store Chatbot! 👗\n",
      "Tell me what you're looking for. Type 'exit' to quit anytime.\n"
     ]
    },
    {
     "name": "stdin",
     "output_type": "stream",
     "text": [
      "\n",
      "What type of clothing do you need? (Shirt, Jeans, Dress, Jacket, etc.):  shirt\n",
      "\n",
      "Enter the minimum price: $ 20\n",
      "Enter the maximum price: $ 500\n"
     ]
    },
    {
     "name": "stdout",
     "output_type": "stream",
     "text": [
      "\n",
      "Here are Shirt options between $20 - $500:\n",
      "✔ Casual Cotton Shirt - $25\n",
      "✔ Formal White Shirt - $35\n"
     ]
    },
    {
     "name": "stdin",
     "output_type": "stream",
     "text": [
      "\n",
      "Do you want to look for something else? (yes/no):  yes\n",
      "\n",
      "What type of clothing do you need? (Shirt, Jeans, Dress, Jacket, etc.):  dress\n",
      "\n",
      "Enter the minimum price: $ 20\n",
      "Enter the maximum price: $ 50\n"
     ]
    },
    {
     "name": "stdout",
     "output_type": "stream",
     "text": [
      "\n",
      "Here are Dress options between $20 - $50:\n",
      "✔ Floral Summer Dress - $45\n"
     ]
    },
    {
     "name": "stdin",
     "output_type": "stream",
     "text": [
      "\n",
      "Do you want to look for something else? (yes/no):  yes\n",
      "\n",
      "What type of clothing do you need? (Shirt, Jeans, Dress, Jacket, etc.):  jeans\n",
      "\n",
      "Enter the minimum price: $ 10\n",
      "Enter the maximum price: $ 60\n"
     ]
    },
    {
     "name": "stdout",
     "output_type": "stream",
     "text": [
      "\n",
      "Here are Jeans options between $10 - $60:\n",
      "✔ Slim Fit Jeans - $40\n",
      "✔ Ripped Denim Jeans - $50\n",
      "✔ Classic Blue Jeans - $35\n"
     ]
    },
    {
     "name": "stdin",
     "output_type": "stream",
     "text": [
      "\n",
      "Do you want to look for something else? (yes/no):  jackets\n"
     ]
    },
    {
     "name": "stdout",
     "output_type": "stream",
     "text": [
      "Thank you for shopping with us! 🛍️ Have a great day! 😊\n"
     ]
    }
   ],
   "source": [
    "def clothing_chatbot():\n",
    "    print(\"👕 Welcome to the Clothing Store Chatbot! 👗\")\n",
    "    print(\"Tell me what you're looking for. Type 'exit' to quit anytime.\")\n",
    "\n",
    "    while True:\n",
    "        # Step 1: Ask for category\n",
    "        category = input(\"\\nWhat type of clothing do you need? (Shirt, Jeans, Dress, Jacket, etc.): \").strip().lower()\n",
    "        \n",
    "        if category == \"exit\":\n",
    "            print(\"Thank you for visiting! Have a great day! 😊\")\n",
    "            break\n",
    "        \n",
    "        # Sample clothing collection with prices\n",
    "        clothing_options = {\n",
    "            \"shirt\": [\n",
    "                {\"name\": \"Casual Cotton Shirt\", \"price\": 25},\n",
    "                {\"name\": \"Formal White Shirt\", \"price\": 35},\n",
    "                {\"name\": \"Printed T-Shirt\", \"price\": 15}\n",
    "            ],\n",
    "            \"jeans\": [\n",
    "                {\"name\": \"Slim Fit Jeans\", \"price\": 40},\n",
    "                {\"name\": \"Ripped Denim Jeans\", \"price\": 50},\n",
    "                {\"name\": \"Classic Blue Jeans\", \"price\": 35}\n",
    "            ],\n",
    "            \"dress\": [\n",
    "                {\"name\": \"Evening Gown\", \"price\": 80},\n",
    "                {\"name\": \"Floral Summer Dress\", \"price\": 45},\n",
    "                {\"name\": \"Casual Midi Dress\", \"price\": 55}\n",
    "            ],\n",
    "            \"jacket\": [\n",
    "                {\"name\": \"Leather Jacket\", \"price\": 100},\n",
    "                {\"name\": \"Denim Jacket\", \"price\": 60},\n",
    "                {\"name\": \"Winter Puffer Jacket\", \"price\": 75}\n",
    "            ]\n",
    "        }\n",
    "\n",
    "        if category not in clothing_options:\n",
    "            print(\"❌ Sorry, we don't have that category. Please try something else!\")\n",
    "            continue\n",
    "        \n",
    "        # Step 2: Ask for price range\n",
    "        try:\n",
    "            min_price = int(input(\"\\nEnter the minimum price: $\"))\n",
    "            max_price = int(input(\"Enter the maximum price: $\"))\n",
    "        except ValueError:\n",
    "            print(\"❌ Invalid price input. Please enter numbers only.\")\n",
    "            continue\n",
    "        \n",
    "        # Step 3: Filter and display results\n",
    "        print(f\"\\nHere are {category.capitalize()} options between ${min_price} - ${max_price}:\")\n",
    "        found = False\n",
    "        for item in clothing_options[category]:\n",
    "            if min_price <= item[\"price\"] <= max_price:\n",
    "                print(f\"✔ {item['name']} - ${item['price']}\")\n",
    "                found = True\n",
    "        \n",
    "        if not found:\n",
    "            print(\"❌ No items found in this price range. Try a different range!\")\n",
    "\n",
    "        # Step 4: Ask if they want to continue\n",
    "        next_step = input(\"\\nDo you want to look for something else? (yes/no): \").strip().lower()\n",
    "        if next_step != \"yes\":\n",
    "            print(\"Thank you for shopping with us! 🛍️ Have a great day! 😊\")\n",
    "            break\n",
    "\n",
    "# Run the chatbot\n",
    "clothing_chatbot()\n"
   ]
  },
  {
   "cell_type": "code",
   "execution_count": null,
   "id": "f4dafa7c-9d75-4cb2-a681-fb0595c97f16",
   "metadata": {},
   "outputs": [],
   "source": []
  }
 ],
 "metadata": {
  "kernelspec": {
   "display_name": "Python 3 (ipykernel)",
   "language": "python",
   "name": "python3"
  },
  "language_info": {
   "codemirror_mode": {
    "name": "ipython",
    "version": 3
   },
   "file_extension": ".py",
   "mimetype": "text/x-python",
   "name": "python",
   "nbconvert_exporter": "python",
   "pygments_lexer": "ipython3",
   "version": "3.12.7"
  }
 },
 "nbformat": 4,
 "nbformat_minor": 5
}
