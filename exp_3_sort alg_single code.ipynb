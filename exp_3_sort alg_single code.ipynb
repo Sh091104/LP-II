{
 "cells": [
  {
   "cell_type": "markdown",
   "id": "73d16436-299e-49cb-b27d-256d2cb51df2",
   "metadata": {},
   "source": [
    "3. Implement A* Algorithm for any game search problem."
   ]
  },
  {
   "cell_type": "code",
   "execution_count": null,
   "id": "75106813-99eb-4c05-9dc4-e99818b0cb21",
   "metadata": {},
   "outputs": [
    {
     "name": "stdin",
     "output_type": "stream",
     "text": [
      "Enter number of jobs:  3\n"
     ]
    },
    {
     "name": "stdout",
     "output_type": "stream",
     "text": [
      "Enter job details (ID Deadline Profit):\n"
     ]
    }
   ],
   "source": [
    "class Job:\n",
    "    def __init__(self, job_id, deadline, profit):\n",
    "        self.id = job_id\n",
    "        self.deadline = deadline\n",
    "        self.profit = profit\n",
    "\n",
    "def job_scheduling(jobs):\n",
    "    # Step 1: Sort jobs by descending profit\n",
    "    jobs.sort(key=lambda x: x.profit, reverse=True)\n",
    "\n",
    "    max_deadline = max(job.deadline for job in jobs)\n",
    "    slots = [None] * max_deadline\n",
    "    total_profit = 0\n",
    "\n",
    "    for job in jobs:\n",
    "        # Find a free slot before the job's deadline (from latest to earliest)\n",
    "        for i in range(min(job.deadline, max_deadline) - 1, -1, -1):\n",
    "            if slots[i] is None:\n",
    "                slots[i] = job.id\n",
    "                total_profit += job.profit\n",
    "                break\n",
    "\n",
    "    # Print result\n",
    "    print(\"Scheduled Jobs in order:\", [job_id for job_id in slots if job_id])\n",
    "    print(\"Total Profit:\", total_profit)\n",
    "\n",
    "# Take user input\n",
    "n = int(input(\"Enter number of jobs: \"))\n",
    "jobs = []\n",
    "\n",
    "print(\"Enter job details (ID Deadline Profit):\")\n",
    "for _ in range(n):\n",
    "    job_id, deadline, profit = input().split()\n",
    "    jobs.append(Job(job_id, int(deadline), int(profit)))\n",
    "\n",
    "job_scheduling(jobs)\n"
   ]
  },
  {
   "cell_type": "code",
   "execution_count": null,
   "id": "963f994f-c572-44a5-a6ca-0779a5c3a86d",
   "metadata": {},
   "outputs": [],
   "source": []
  }
 ],
 "metadata": {
  "kernelspec": {
   "display_name": "Python 3 (ipykernel)",
   "language": "python",
   "name": "python3"
  },
  "language_info": {
   "codemirror_mode": {
    "name": "ipython",
    "version": 3
   },
   "file_extension": ".py",
   "mimetype": "text/x-python",
   "name": "python",
   "nbconvert_exporter": "python",
   "pygments_lexer": "ipython3",
   "version": "3.12.7"
  }
 },
 "nbformat": 4,
 "nbformat_minor": 5
}
