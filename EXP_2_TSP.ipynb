{
 "cells": [
  {
   "cell_type": "markdown",
   "id": "489d6569-360c-4433-8c35-bec2e4f03b5f",
   "metadata": {},
   "source": [
    "# 2.. Implement A star Algorithm for any game search problem."
   ]
  },
  {
   "cell_type": "code",
   "execution_count": null,
   "id": "e1f0edbb-20d2-4c36-8ed7-f760b14ef4a0",
   "metadata": {},
   "outputs": [
    {
     "name": "stdin",
     "output_type": "stream",
     "text": [
      "Enter number of cities:  4\n"
     ]
    },
    {
     "name": "stdout",
     "output_type": "stream",
     "text": [
      "Enter the distance matrix row by row:\n"
     ]
    }
   ],
   "source": [
    "import heapq\n",
    "\n",
    "def astar_tsp(graph, start):\n",
    "    n = len(graph)\n",
    "    frontier = []\n",
    "    heapq.heappush(frontier, (0, [start], 0))\n",
    "    min_path = None\n",
    "    min_cost = float('inf')\n",
    "\n",
    "    while frontier:\n",
    "        f, path, cost_so_far = heapq.heappop(frontier)\n",
    "        current = path[-1]\n",
    "\n",
    "        if len(path) == n:\n",
    "            total_cost = cost_so_far + graph[current][start]\n",
    "            if total_cost < min_cost:\n",
    "                min_cost = total_cost\n",
    "                min_path = path + [start]\n",
    "            continue\n",
    "\n",
    "        for neighbor in range(n):\n",
    "            if neighbor not in path:\n",
    "                new_cost = cost_so_far + graph[current][neighbor]\n",
    "                heapq.heappush(frontier, (new_cost, path + [neighbor], new_cost))\n",
    "\n",
    "    return min_path, min_cost\n",
    "\n",
    "# Get user input\n",
    "n = int(input(\"Enter number of cities: \"))\n",
    "print(\"Enter the distance matrix row by row:\")\n",
    "graph = []\n",
    "for i in range(n):\n",
    "    row = list(map(int, input(f\"Row {i+1}: \").split()))\n",
    "    graph.append(row)\n",
    "\n",
    "start = int(input(\"Enter the starting city (0 to {}): \".format(n - 1)))\n",
    "\n",
    "path, cost = astar_tsp(graph, start)\n",
    "\n",
    "print(\"Shortest TSP path:\", path)\n",
    "print(\"Total cost:\", cost)\n"
   ]
  },
  {
   "cell_type": "code",
   "execution_count": null,
   "id": "08d28704-385a-4566-84b3-5108205fb5bd",
   "metadata": {},
   "outputs": [],
   "source": []
  }
 ],
 "metadata": {
  "kernelspec": {
   "display_name": "Python 3 (ipykernel)",
   "language": "python",
   "name": "python3"
  },
  "language_info": {
   "codemirror_mode": {
    "name": "ipython",
    "version": 3
   },
   "file_extension": ".py",
   "mimetype": "text/x-python",
   "name": "python",
   "nbconvert_exporter": "python",
   "pygments_lexer": "ipython3",
   "version": "3.12.7"
  }
 },
 "nbformat": 4,
 "nbformat_minor": 5
}
